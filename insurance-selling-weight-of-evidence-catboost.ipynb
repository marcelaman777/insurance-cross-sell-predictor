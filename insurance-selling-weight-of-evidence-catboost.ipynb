{
 "cells": [
  {
   "cell_type": "markdown",
   "id": "42e83948",
   "metadata": {
    "papermill": {
     "duration": 0.004989,
     "end_time": "2024-07-31T15:04:39.852501",
     "exception": false,
     "start_time": "2024-07-31T15:04:39.847512",
     "status": "completed"
    },
    "tags": []
   },
   "source": [
    "# <p style=\"font-family: Garamond; font-size: 33px; word-spacing: 10px; padding: 25px; text-align: center; color: #ffffff; border-radius: 25px;  font-weight: bold; background-color: #06066F\">BINARY CLASSIFICATION OF INSURANCE CROSS SELLING WITH CATBOOST</p>\n",
    "\n",
    "**Context:** An insurance company that has provided health insurance to its customers, now needs to build a model to predict whether last year's policyholders would also be interested in purchasing a vehicle insurance.  \n",
    "\n",
    "The **objective of this competition is to predict which customers respond positively to an automobile insurance offer** based on 10 factors:   \n",
    "- Gender. Gender of the customer\n",
    "- Age. Age of the customer\n",
    "- Driving_License. 0: Customer does not have DL, 1: Customer already has DL\n",
    "- Region_Code. Unique code for the region of the customer\n",
    "- Previously_Insured. 1: Customer already has Vehicle Insurance, 0: Customer doesn't have Vehicle Insurance\n",
    "- Vehicle_Age. Age of the Vehicle\n",
    "- Vehicle_Damage. 1: Customer got his/her vehicle damaged in the past. 0: Customer didn't get his/her vehicle damaged in the past.\n",
    "- Annual_Premium. The amount customer needs to pay as premium in the year\n",
    "- Policy_Sales_Channel. Anonymized Code for the channel of outreaching to the customer ie. Different Agents, Over Mail, Over Phone, In Person, etc.\n",
    "- Vintage. Number of days the customer has been associated with the company.\n",
    "\n",
    "\n",
    "**Response.** 1: Customer is interested, 0: Customer is not interested\n",
    "\n",
    "The datasets for this competition (both train and test) were generated from a deep learning model trained on the [Health Insurance Cross Sell Prediction Data](https://www.kaggle.com/datasets/annantkumarsingh/health-insurance-cross-sell-prediction-data/data).\n",
    "\n",
    "**Submissions are evaluated using area under the ROC curve.**  \n",
    "\n",
    "\n",
    "**In this notebook we'll use a Catboost Classifier.**\n",
    "\n",
    "Full description available at [Health Insurance Cross Sell Prediction](https://www.kaggle.com/datasets/anmolkumar/health-insurance-cross-sell-prediction/data)\n",
    "\n",
    "EDA available [here](https://www.kaggle.com/code/marcelamanzosagez/classification-of-insurance-cross-selling-eda)."
   ]
  },
  {
   "cell_type": "markdown",
   "id": "ad36b0e8",
   "metadata": {
    "papermill": {
     "duration": 0.004177,
     "end_time": "2024-07-31T15:04:39.861220",
     "exception": false,
     "start_time": "2024-07-31T15:04:39.857043",
     "status": "completed"
    },
    "tags": []
   },
   "source": [
    "# <p style=\"font-family: Garamond; font-size: 25px; word-spacing: 10px; padding: 15px; text-align: center; color: #ffffff; border-radius: 15px;  font-weight: bold; background-color: #06066F;\">LIBRARIES</p>"
   ]
  },
  {
   "cell_type": "code",
   "execution_count": 1,
   "id": "42136e97",
   "metadata": {
    "execution": {
     "iopub.execute_input": "2024-07-31T15:04:39.872022Z",
     "iopub.status.busy": "2024-07-31T15:04:39.871177Z",
     "iopub.status.idle": "2024-07-31T15:04:42.386793Z",
     "shell.execute_reply": "2024-07-31T15:04:42.385546Z"
    },
    "papermill": {
     "duration": 2.523625,
     "end_time": "2024-07-31T15:04:42.389239",
     "exception": false,
     "start_time": "2024-07-31T15:04:39.865614",
     "status": "completed"
    },
    "tags": []
   },
   "outputs": [
    {
     "name": "stdout",
     "output_type": "stream",
     "text": [
      "/kaggle/input/playground-series-s4e7/sample_submission.csv\n",
      "/kaggle/input/playground-series-s4e7/train.csv\n",
      "/kaggle/input/playground-series-s4e7/test.csv\n"
     ]
    }
   ],
   "source": [
    "import numpy as np\n",
    "import pandas as pd\n",
    "\n",
    "from sklearn.metrics import roc_auc_score\n",
    "from sklearn.preprocessing import OrdinalEncoder, FunctionTransformer\n",
    "from sklearn.pipeline import Pipeline\n",
    "from sklearn.model_selection import StratifiedKFold\n",
    "from sklearn.compose import ColumnTransformer\n",
    "from sklearn.base import OneToOneFeatureMixin, BaseEstimator, TransformerMixin\n",
    "\n",
    "from catboost import CatBoostClassifier\n",
    "\n",
    "# Remove the max column restriction for displaying on the screen\n",
    "pd.set_option('display.max_columns', None)\n",
    "pd.set_option('display.max_rows', None)\n",
    "\n",
    "import os\n",
    "import gc\n",
    "import warnings\n",
    "warnings.filterwarnings(\"ignore\")\n",
    "    \n",
    "for dirname, _, filenames in os.walk('/kaggle/input'):\n",
    "    for filename in filenames:\n",
    "        print(os.path.join(dirname, filename))\n",
    "        \n",
    "from IPython.display import Markdown as md"
   ]
  },
  {
   "cell_type": "code",
   "execution_count": 2,
   "id": "d69faf62",
   "metadata": {
    "_kg_hide-input": true,
    "execution": {
     "iopub.execute_input": "2024-07-31T15:04:42.401534Z",
     "iopub.status.busy": "2024-07-31T15:04:42.400623Z",
     "iopub.status.idle": "2024-07-31T15:04:42.407084Z",
     "shell.execute_reply": "2024-07-31T15:04:42.406105Z"
    },
    "papermill": {
     "duration": 0.014991,
     "end_time": "2024-07-31T15:04:42.409235",
     "exception": false,
     "start_time": "2024-07-31T15:04:42.394244",
     "status": "completed"
    },
    "tags": []
   },
   "outputs": [],
   "source": [
    "# Helper functions\n",
    "\n",
    "import random as py_random\n",
    "\n",
    "def reset_random_seeds(seed=42):\n",
    "    ''' Set all seeds for random numbers to get reproducibility.'''\n",
    "    \n",
    "    os.environ['PYTHONHASHSEED'] = str(seed)\n",
    "    np.random.seed(seed)\n",
    "    py_random.seed(seed)\n",
    "\n",
    "\n",
    "reset_random_seeds()"
   ]
  },
  {
   "cell_type": "markdown",
   "id": "ffe0fa1d",
   "metadata": {
    "papermill": {
     "duration": 0.004573,
     "end_time": "2024-07-31T15:04:42.418596",
     "exception": false,
     "start_time": "2024-07-31T15:04:42.414023",
     "status": "completed"
    },
    "tags": []
   },
   "source": [
    "# <p style=\"font-family: Garamond; font-size: 25px; word-spacing: 10px; padding: 15px; text-align: center; color: #ffffff; border-radius: 15px;  font-weight: bold; background-color: #06066F;\">DATA LOADING</p>"
   ]
  },
  {
   "cell_type": "code",
   "execution_count": 3,
   "id": "77ffde0f",
   "metadata": {
    "_kg_hide-input": true,
    "execution": {
     "iopub.execute_input": "2024-07-31T15:04:42.430619Z",
     "iopub.status.busy": "2024-07-31T15:04:42.429900Z",
     "iopub.status.idle": "2024-07-31T15:05:23.149950Z",
     "shell.execute_reply": "2024-07-31T15:05:23.148914Z"
    },
    "papermill": {
     "duration": 40.729053,
     "end_time": "2024-07-31T15:05:23.152543",
     "exception": false,
     "start_time": "2024-07-31T15:04:42.423490",
     "status": "completed"
    },
    "tags": []
   },
   "outputs": [
    {
     "data": {
      "text/markdown": [
       "\n",
       "**Train shape = (11504798, 11) (including target)**           \n",
       "Number of missing values in train set = 0   \n",
       "\n",
       "**Test shape = (7669866, 10)**     \n",
       "Number of missing values in test set = 0   \n",
       "\n",
       "**Number of features = 10**   \n",
       "- **Categorical = 7 ( nominal = 2 -- ordinal = 1 -- binary = 4 )**   \n",
       "- **Numerical   = 3 ( discrete = 2 -- continous = 1 )**   \n",
       "\n",
       "**Features:**   \n",
       "- **Nominal:** ['Region_Code', 'Policy_Sales_Channel']    \n",
       "- **Ordinal:** ['Vehicle_Age']   \n",
       "- **Binary:** ['Gender', 'Driving_License', 'Previously_Insured', 'Vehicle_Damage']   \n",
       "- **Discrete:** ['Age', 'Vintage']   \n",
       "- **Continuous:** ['Annual_Premium']   \n",
       "\n",
       "**train dataset:**   \n"
      ],
      "text/plain": [
       "<IPython.core.display.Markdown object>"
      ]
     },
     "metadata": {},
     "output_type": "display_data"
    },
    {
     "data": {
      "text/html": [
       "<div>\n",
       "<style scoped>\n",
       "    .dataframe tbody tr th:only-of-type {\n",
       "        vertical-align: middle;\n",
       "    }\n",
       "\n",
       "    .dataframe tbody tr th {\n",
       "        vertical-align: top;\n",
       "    }\n",
       "\n",
       "    .dataframe thead th {\n",
       "        text-align: right;\n",
       "    }\n",
       "</style>\n",
       "<table border=\"1\" class=\"dataframe\">\n",
       "  <thead>\n",
       "    <tr style=\"text-align: right;\">\n",
       "      <th></th>\n",
       "      <th>Gender</th>\n",
       "      <th>Age</th>\n",
       "      <th>Driving_License</th>\n",
       "      <th>Region_Code</th>\n",
       "      <th>Previously_Insured</th>\n",
       "      <th>Vehicle_Age</th>\n",
       "      <th>Vehicle_Damage</th>\n",
       "      <th>Annual_Premium</th>\n",
       "      <th>Policy_Sales_Channel</th>\n",
       "      <th>Vintage</th>\n",
       "      <th>Response</th>\n",
       "    </tr>\n",
       "    <tr>\n",
       "      <th>id</th>\n",
       "      <th></th>\n",
       "      <th></th>\n",
       "      <th></th>\n",
       "      <th></th>\n",
       "      <th></th>\n",
       "      <th></th>\n",
       "      <th></th>\n",
       "      <th></th>\n",
       "      <th></th>\n",
       "      <th></th>\n",
       "      <th></th>\n",
       "    </tr>\n",
       "  </thead>\n",
       "  <tbody>\n",
       "    <tr>\n",
       "      <th>0</th>\n",
       "      <td>Male</td>\n",
       "      <td>21</td>\n",
       "      <td>1</td>\n",
       "      <td>35.0</td>\n",
       "      <td>0</td>\n",
       "      <td>1-2 Year</td>\n",
       "      <td>Yes</td>\n",
       "      <td>65101.0</td>\n",
       "      <td>124.0</td>\n",
       "      <td>187</td>\n",
       "      <td>0</td>\n",
       "    </tr>\n",
       "    <tr>\n",
       "      <th>1</th>\n",
       "      <td>Male</td>\n",
       "      <td>43</td>\n",
       "      <td>1</td>\n",
       "      <td>28.0</td>\n",
       "      <td>0</td>\n",
       "      <td>&gt; 2 Years</td>\n",
       "      <td>Yes</td>\n",
       "      <td>58911.0</td>\n",
       "      <td>26.0</td>\n",
       "      <td>288</td>\n",
       "      <td>1</td>\n",
       "    </tr>\n",
       "    <tr>\n",
       "      <th>2</th>\n",
       "      <td>Female</td>\n",
       "      <td>25</td>\n",
       "      <td>1</td>\n",
       "      <td>14.0</td>\n",
       "      <td>1</td>\n",
       "      <td>&lt; 1 Year</td>\n",
       "      <td>No</td>\n",
       "      <td>38043.0</td>\n",
       "      <td>152.0</td>\n",
       "      <td>254</td>\n",
       "      <td>0</td>\n",
       "    </tr>\n",
       "    <tr>\n",
       "      <th>3</th>\n",
       "      <td>Female</td>\n",
       "      <td>35</td>\n",
       "      <td>1</td>\n",
       "      <td>1.0</td>\n",
       "      <td>0</td>\n",
       "      <td>1-2 Year</td>\n",
       "      <td>Yes</td>\n",
       "      <td>2630.0</td>\n",
       "      <td>156.0</td>\n",
       "      <td>76</td>\n",
       "      <td>0</td>\n",
       "    </tr>\n",
       "    <tr>\n",
       "      <th>4</th>\n",
       "      <td>Female</td>\n",
       "      <td>36</td>\n",
       "      <td>1</td>\n",
       "      <td>15.0</td>\n",
       "      <td>1</td>\n",
       "      <td>1-2 Year</td>\n",
       "      <td>No</td>\n",
       "      <td>31951.0</td>\n",
       "      <td>152.0</td>\n",
       "      <td>294</td>\n",
       "      <td>0</td>\n",
       "    </tr>\n",
       "  </tbody>\n",
       "</table>\n",
       "</div>"
      ],
      "text/plain": [
       "    Gender  Age  Driving_License  Region_Code  Previously_Insured Vehicle_Age  \\\n",
       "id                                                                              \n",
       "0     Male   21                1         35.0                   0    1-2 Year   \n",
       "1     Male   43                1         28.0                   0   > 2 Years   \n",
       "2   Female   25                1         14.0                   1    < 1 Year   \n",
       "3   Female   35                1          1.0                   0    1-2 Year   \n",
       "4   Female   36                1         15.0                   1    1-2 Year   \n",
       "\n",
       "   Vehicle_Damage  Annual_Premium  Policy_Sales_Channel  Vintage  Response  \n",
       "id                                                                          \n",
       "0             Yes         65101.0                 124.0      187         0  \n",
       "1             Yes         58911.0                  26.0      288         1  \n",
       "2              No         38043.0                 152.0      254         0  \n",
       "3             Yes          2630.0                 156.0       76         0  \n",
       "4              No         31951.0                 152.0      294         0  "
      ]
     },
     "execution_count": 3,
     "metadata": {},
     "output_type": "execute_result"
    }
   ],
   "source": [
    "train = pd.read_csv('/kaggle/input/playground-series-s4e7/train.csv', index_col='id')\n",
    "test  = pd.read_csv('/kaggle/input/playground-series-s4e7/test.csv', index_col='id')\n",
    "\n",
    "initial_features = train.columns[:-1].to_list()\n",
    "\n",
    "nominal_features     = ['Region_Code', 'Policy_Sales_Channel']\n",
    "ordinal_features     = ['Vehicle_Age']\n",
    "binary_features      = ['Gender', 'Driving_License', 'Previously_Insured', 'Vehicle_Damage']\n",
    "categorical_features = nominal_features + ordinal_features + binary_features\n",
    "discrete_features    = ['Age', 'Vintage']\n",
    "continuous_features  = ['Annual_Premium']\n",
    "numerical_features   = discrete_features + continuous_features\n",
    "\n",
    "display(md(f'''\n",
    "**Train shape = {train.shape} (including target)**           \n",
    "Number of missing values in train set = {train.isna().sum().sum()}   \n",
    "\n",
    "**Test shape = {test.shape}**     \n",
    "Number of missing values in test set = {test.isna().sum().sum()}   \n",
    "\n",
    "**Number of features = {len(initial_features)}**   \n",
    "- **Categorical = {len(categorical_features)} ( nominal = {len(nominal_features)} -- ordinal = {len(ordinal_features)} -- binary = {len(binary_features)} )**   \n",
    "- **Numerical   = {len(numerical_features)} ( discrete = {len(discrete_features)} -- continous = {len(continuous_features)} )**   \n",
    "\n",
    "**Features:**   \n",
    "- **Nominal:** {nominal_features}    \n",
    "- **Ordinal:** {ordinal_features}   \n",
    "- **Binary:** {binary_features}   \n",
    "- **Discrete:** {discrete_features}   \n",
    "- **Continuous:** {continuous_features}   \n",
    "\n",
    "**train dataset:**   \n",
    "'''))\n",
    "train.head()"
   ]
  },
  {
   "cell_type": "code",
   "execution_count": 4,
   "id": "0123f537",
   "metadata": {
    "execution": {
     "iopub.execute_input": "2024-07-31T15:05:23.164612Z",
     "iopub.status.busy": "2024-07-31T15:05:23.164282Z",
     "iopub.status.idle": "2024-07-31T15:05:48.761662Z",
     "shell.execute_reply": "2024-07-31T15:05:48.760505Z"
    },
    "papermill": {
     "duration": 25.606083,
     "end_time": "2024-07-31T15:05:48.764084",
     "exception": false,
     "start_time": "2024-07-31T15:05:23.158001",
     "status": "completed"
    },
    "tags": []
   },
   "outputs": [
    {
     "name": "stdout",
     "output_type": "stream",
     "text": [
      "<class 'pandas.core.frame.DataFrame'>\n",
      "Index: 11504798 entries, 0 to 11504797\n",
      "Data columns (total 11 columns):\n",
      " #   Column                Dtype\n",
      "---  ------                -----\n",
      " 0   Gender                int64\n",
      " 1   Age                   int64\n",
      " 2   Driving_License       int64\n",
      " 3   Region_Code           int64\n",
      " 4   Previously_Insured    int64\n",
      " 5   Vehicle_Age           int64\n",
      " 6   Vehicle_Damage        int64\n",
      " 7   Annual_Premium        int64\n",
      " 8   Policy_Sales_Channel  int64\n",
      " 9   Vintage               int64\n",
      " 10  Response              int64\n",
      "dtypes: int64(11)\n",
      "memory usage: 1.0 GB\n"
     ]
    }
   ],
   "source": [
    "# Re-encode nominal features \n",
    "\n",
    "ordinal_encoder = {}\n",
    "for col in ['Region_Code', 'Policy_Sales_Channel', 'Gender', 'Vehicle_Damage']:\n",
    "    ordinal_encoder[col] = OrdinalEncoder(handle_unknown='use_encoded_value', unknown_value=train[col].nunique(), dtype=int)\n",
    "    train[col] = ordinal_encoder[col].fit_transform(train[col].array.reshape(-1, 1))\n",
    "    test[col] = ordinal_encoder[col].transform(test[col].array.reshape(-1, 1))  \n",
    "\n",
    "col = 'Vehicle_Age'\n",
    "categories = [['< 1 Year', '1-2 Year', '> 2 Years']]\n",
    "ordinal_encoder[col] = OrdinalEncoder(categories=categories, handle_unknown='use_encoded_value', unknown_value=train[col].nunique(), dtype=int) \n",
    "train[col] = ordinal_encoder[col].fit_transform(train[col].array.reshape(-1, 1))\n",
    "test[col] = ordinal_encoder[col].transform(test[col].array.reshape(-1, 1))  \n",
    "\n",
    "# Downcast 'Annual_Premium'\n",
    "train['Annual_Premium'] = train['Annual_Premium'].astype(int)\n",
    "test['Annual_Premium']  = test['Annual_Premium'].astype(int)\n",
    "\n",
    "gc.collect()\n",
    "\n",
    "train.info()"
   ]
  },
  {
   "cell_type": "markdown",
   "id": "8254d9ca",
   "metadata": {
    "papermill": {
     "duration": 0.005055,
     "end_time": "2024-07-31T15:05:48.774809",
     "exception": false,
     "start_time": "2024-07-31T15:05:48.769754",
     "status": "completed"
    },
    "tags": []
   },
   "source": [
    "# <p style=\"font-family: Garamond; font-size: 25px; word-spacing: 10px; padding: 15px; text-align: center; color: #ffffff; border-radius: 15px;  font-weight: bold; background-color: #06066F;\">FEATURE ENGINEERING</p>"
   ]
  },
  {
   "cell_type": "markdown",
   "id": "9e1f5961",
   "metadata": {
    "papermill": {
     "duration": 0.005302,
     "end_time": "2024-07-31T15:05:48.785393",
     "exception": false,
     "start_time": "2024-07-31T15:05:48.780091",
     "status": "completed"
    },
    "tags": []
   },
   "source": [
    "The idea is to transform the categorical features \"Region_Code\" and \"Policy_Sales_Channel\" into continuous features using the **Weight of Evidence** transformation.\n",
    "\n",
    "**Weight of Evidence (WoE)** [1] is a metric for evaluating the predictive power of categorical variables in distinguishing between binary outcomes, ensuring a monotonic relationship with the target variable and enhancing the effectiveness of predictive models. It is particularly used in credit scoring and risk modeling.\n",
    "\n",
    "References:\n",
    "[1] WEIGHT OF EVIDENCE (WOE) AND INFORMATION VALUE (IV) EXPLAINED, https://www.listendata.com/2015/03/weight-of-evidence-woe-and-information.html"
   ]
  },
  {
   "cell_type": "code",
   "execution_count": 5,
   "id": "1daab082",
   "metadata": {
    "execution": {
     "iopub.execute_input": "2024-07-31T15:05:48.797861Z",
     "iopub.status.busy": "2024-07-31T15:05:48.796984Z",
     "iopub.status.idle": "2024-07-31T15:05:48.807666Z",
     "shell.execute_reply": "2024-07-31T15:05:48.806706Z"
    },
    "papermill": {
     "duration": 0.019019,
     "end_time": "2024-07-31T15:05:48.809600",
     "exception": false,
     "start_time": "2024-07-31T15:05:48.790581",
     "status": "completed"
    },
    "tags": []
   },
   "outputs": [],
   "source": [
    "class TargetEncodingTransformer(TransformerMixin, BaseEstimator):\n",
    "    '''Add target encoding for categorical features.\n",
    "    Transform categorical features into continuous ones using the \"weight of evidence\" transformation.\n",
    "    '''\n",
    "    \n",
    "    def __init__(self, with_sum_woes=False, suffix='_WoE'):\n",
    "        self.with_sum_woes = with_sum_woes\n",
    "        self.suffix = suffix\n",
    "        \n",
    "    def calculate_woe(self, X, y):\n",
    "        '''Calculate Weight of Evidence (WoE).'''\n",
    "        eps = 1e-10  # small value to avoid division by zero\n",
    "        #tot_ev = train['Response'].sum()\n",
    "        #tot_non_ev = len(train) - tot_ev\n",
    "        grouped = y.groupby(X).agg(['count', 'sum'])\n",
    "        grouped['non_event'] = grouped['count'] - grouped['sum'] \n",
    "        grouped['woe'] = np.log( (grouped['sum'] + eps) / (grouped['non_event'] + eps) ) # + np.log(tot_non_ev/tot_ev)\n",
    "        return dict(grouped['woe'])\n",
    "        \n",
    "    def fit(self, X, y=None):\n",
    "        self.target_enc_dict = {}\n",
    "        for col in X.columns:\n",
    "            self.target_enc_dict[col] = self.calculate_woe(X[col], y) \n",
    "        return self\n",
    "    \n",
    "    def transform(self, X):  \n",
    "        df = pd.DataFrame(index=X.index)\n",
    "        if self.with_sum_woes: df['WoEs'] = 0.0\n",
    "        for col in X.columns:\n",
    "            df[col+self.suffix] = X[col].map(self.target_enc_dict[col])\n",
    "            if self.with_sum_woes: df['WoEs'] = df['WoEs'] + df[col+self.suffix]\n",
    "        self.columns = df.columns.to_list()\n",
    "        return df\n",
    "    \n",
    "    def get_feature_names_out(self):\n",
    "        return self.columns"
   ]
  },
  {
   "cell_type": "markdown",
   "id": "b8f89363",
   "metadata": {
    "papermill": {
     "duration": 0.005057,
     "end_time": "2024-07-31T15:05:48.820036",
     "exception": false,
     "start_time": "2024-07-31T15:05:48.814979",
     "status": "completed"
    },
    "tags": []
   },
   "source": [
    "# <p style=\"font-family: Garamond; font-size: 25px; word-spacing: 10px; padding: 15px; text-align: center; color: #ffffff; border-radius: 15px;  font-weight: bold; background-color: #06066F;\">MODELING</p>"
   ]
  },
  {
   "cell_type": "code",
   "execution_count": 6,
   "id": "02589387",
   "metadata": {
    "execution": {
     "iopub.execute_input": "2024-07-31T15:05:48.832439Z",
     "iopub.status.busy": "2024-07-31T15:05:48.832026Z",
     "iopub.status.idle": "2024-07-31T15:05:48.845082Z",
     "shell.execute_reply": "2024-07-31T15:05:48.844095Z"
    },
    "papermill": {
     "duration": 0.021814,
     "end_time": "2024-07-31T15:05:48.847272",
     "exception": false,
     "start_time": "2024-07-31T15:05:48.825458",
     "status": "completed"
    },
    "tags": []
   },
   "outputs": [],
   "source": [
    "def train_model(features, n_folds, cv_seed, model_params, target='Response'):\n",
    "    \n",
    "    TransformerID = FunctionTransformer(lambda x:x)\n",
    "    \n",
    "    valid_scores     = [] # oof scores \n",
    "    test_pred        = np.zeros(len(test), dtype=float) # record predictions for test dataset\n",
    "\n",
    "    skf = StratifiedKFold(n_splits=n_folds, shuffle=True, random_state=cv_seed)\n",
    "\n",
    "    for fold, (train_index, valid_index) in enumerate(skf.split(train, train['Response'])):\n",
    "        \n",
    "        X_train = train.loc[train_index,features]\n",
    "        y_train = train[target][train_index]\n",
    "        X_valid = train.loc[valid_index,features]\n",
    "        y_valid = train[target][valid_index]\n",
    "        \n",
    "        # Add encoding features\n",
    "        preprocessor = ColumnTransformer([\n",
    "            ('tenc', TargetEncodingTransformer(suffix='_WoE'), ['Region_Code', 'Policy_Sales_Channel']),\n",
    "            ('id_fun', TransformerID, ['Region_Code', 'Policy_Sales_Channel'])\n",
    "        ],\n",
    "        remainder='passthrough').set_output(transform='pandas')\n",
    "        \n",
    "        X_train = preprocessor.fit_transform(X_train, y_train)\n",
    "        X_valid = preprocessor.transform(X_valid)\n",
    "        X_test  = preprocessor.transform(test)\n",
    "        \n",
    "        new_categorical_features = [col for col in X_train.columns if col not in ['tenc__Region_Code_WoE', 'tenc__Policy_Sales_Channel_WoE']] \n",
    "        X_train[new_categorical_features] = X_train[new_categorical_features].astype('category')\n",
    "        X_valid[new_categorical_features] = X_valid[new_categorical_features].astype('category')\n",
    "        X_test[new_categorical_features]  = X_test[new_categorical_features].astype('category')\n",
    "\n",
    "        model = CatBoostClassifier(**model_params)\n",
    "        model.fit(X_train, y_train, eval_set=[(X_valid, y_valid)], cat_features=new_categorical_features)\n",
    "        valid_score = model.best_score_['validation'][model_params['eval_metric']]\n",
    "        valid_scores.append(valid_score)\n",
    "        \n",
    "        # predict test set\n",
    "        test_pred = test_pred + model.predict_proba(X_test)[:, 1]\n",
    "        \n",
    "        del X_train, y_train, X_valid, y_valid\n",
    "        gc.collect()\n",
    "        \n",
    "        print(f'fold {fold+1}/{n_folds} - AUC validation set = {valid_score}')\n",
    "\n",
    "    print(f'\\nmean AUC validation set = {np.mean(valid_scores)}')\n",
    "    \n",
    "    test_pred = test_pred / n_folds\n",
    "\n",
    "    return test_pred"
   ]
  },
  {
   "cell_type": "code",
   "execution_count": 7,
   "id": "9adc418c",
   "metadata": {
    "execution": {
     "iopub.execute_input": "2024-07-31T15:05:48.860483Z",
     "iopub.status.busy": "2024-07-31T15:05:48.859680Z",
     "iopub.status.idle": "2024-07-31T19:33:25.620001Z",
     "shell.execute_reply": "2024-07-31T19:33:25.619097Z"
    },
    "papermill": {
     "duration": 16056.77921,
     "end_time": "2024-07-31T19:33:25.632064",
     "exception": false,
     "start_time": "2024-07-31T15:05:48.852854",
     "status": "completed"
    },
    "tags": []
   },
   "outputs": [
    {
     "name": "stderr",
     "output_type": "stream",
     "text": [
      "Default metric period is 5 because AUC is/are not implemented for GPU\n"
     ]
    },
    {
     "name": "stdout",
     "output_type": "stream",
     "text": [
      "0:\ttest: 0.8749228\tbest: 0.8749228 (0)\ttotal: 14s\tremaining: 1d 14h 54m 46s\n",
      "500:\ttest: 0.8942842\tbest: 0.8942842 (500)\ttotal: 7m 48s\tremaining: 2h 27m 58s\n",
      "1000:\ttest: 0.8946763\tbest: 0.8946763 (1000)\ttotal: 15m 3s\tremaining: 2h 15m 18s\n",
      "1500:\ttest: 0.8948261\tbest: 0.8948261 (1500)\ttotal: 22m 16s\tremaining: 2h 6m 5s\n",
      "2000:\ttest: 0.8949012\tbest: 0.8949027 (1988)\ttotal: 29m 33s\tremaining: 1h 58m 11s\n",
      "2500:\ttest: 0.8949186\tbest: 0.8949236 (2375)\ttotal: 36m 49s\tremaining: 1h 50m 25s\n",
      "bestTest = 0.8949236274\n",
      "bestIteration = 2375\n",
      "Shrink model to first 2376 iterations.\n",
      "fold 1/5 - AUC validation set = 0.8949236273765564\n"
     ]
    },
    {
     "name": "stderr",
     "output_type": "stream",
     "text": [
      "Default metric period is 5 because AUC is/are not implemented for GPU\n"
     ]
    },
    {
     "name": "stdout",
     "output_type": "stream",
     "text": [
      "0:\ttest: 0.8741687\tbest: 0.8741687 (0)\ttotal: 1.45s\tremaining: 4h 2m 18s\n",
      "500:\ttest: 0.8938780\tbest: 0.8938780 (500)\ttotal: 7m 29s\tremaining: 2h 21m 58s\n",
      "1000:\ttest: 0.8942742\tbest: 0.8942742 (1000)\ttotal: 14m 43s\tremaining: 2h 12m 25s\n",
      "1500:\ttest: 0.8943881\tbest: 0.8943881 (1500)\ttotal: 21m 53s\tremaining: 2h 4m\n",
      "2000:\ttest: 0.8944353\tbest: 0.8944362 (1993)\ttotal: 29m 9s\tremaining: 1h 56m 32s\n",
      "2500:\ttest: 0.8944582\tbest: 0.8944618 (2444)\ttotal: 36m 21s\tremaining: 1h 49m 1s\n",
      "3000:\ttest: 0.8944542\tbest: 0.8944649 (2639)\ttotal: 43m 28s\tremaining: 1h 41m 23s\n",
      "bestTest = 0.8944648504\n",
      "bestIteration = 2639\n",
      "Shrink model to first 2640 iterations.\n",
      "fold 2/5 - AUC validation set = 0.8944648504257202\n"
     ]
    },
    {
     "name": "stderr",
     "output_type": "stream",
     "text": [
      "Default metric period is 5 because AUC is/are not implemented for GPU\n"
     ]
    },
    {
     "name": "stdout",
     "output_type": "stream",
     "text": [
      "0:\ttest: 0.8741781\tbest: 0.8741781 (0)\ttotal: 1.46s\tremaining: 4h 2m 38s\n",
      "500:\ttest: 0.8940715\tbest: 0.8940715 (500)\ttotal: 7m 37s\tremaining: 2h 24m 42s\n",
      "1000:\ttest: 0.8945269\tbest: 0.8945269 (1000)\ttotal: 14m 46s\tremaining: 2h 12m 48s\n",
      "1500:\ttest: 0.8946704\tbest: 0.8946704 (1500)\ttotal: 22m\tremaining: 2h 4m 34s\n",
      "2000:\ttest: 0.8947283\tbest: 0.8947285 (1998)\ttotal: 29m 15s\tremaining: 1h 56m 58s\n",
      "2500:\ttest: 0.8947335\tbest: 0.8947414 (2190)\ttotal: 36m 25s\tremaining: 1h 49m 12s\n",
      "bestTest = 0.8947413564\n",
      "bestIteration = 2190\n",
      "Shrink model to first 2191 iterations.\n",
      "fold 3/5 - AUC validation set = 0.8947413563728333\n"
     ]
    },
    {
     "name": "stderr",
     "output_type": "stream",
     "text": [
      "Default metric period is 5 because AUC is/are not implemented for GPU\n"
     ]
    },
    {
     "name": "stdout",
     "output_type": "stream",
     "text": [
      "0:\ttest: 0.8742979\tbest: 0.8742979 (0)\ttotal: 1.33s\tremaining: 3h 41m 4s\n",
      "500:\ttest: 0.8938781\tbest: 0.8938781 (500)\ttotal: 7m 31s\tremaining: 2h 22m 32s\n",
      "1000:\ttest: 0.8943288\tbest: 0.8943288 (1000)\ttotal: 14m 44s\tremaining: 2h 12m 35s\n",
      "1500:\ttest: 0.8944678\tbest: 0.8944683 (1480)\ttotal: 21m 56s\tremaining: 2h 4m 14s\n",
      "2000:\ttest: 0.8945459\tbest: 0.8945475 (1994)\ttotal: 29m 10s\tremaining: 1h 56m 38s\n",
      "2500:\ttest: 0.8945721\tbest: 0.8945730 (2456)\ttotal: 36m 22s\tremaining: 1h 49m 4s\n",
      "3000:\ttest: 0.8945709\tbest: 0.8945777 (2792)\ttotal: 43m 39s\tremaining: 1h 41m 50s\n",
      "3500:\ttest: 0.8945718\tbest: 0.8945795 (3156)\ttotal: 50m 51s\tremaining: 1h 34m 24s\n",
      "bestTest = 0.8945795298\n",
      "bestIteration = 3156\n",
      "Shrink model to first 3157 iterations.\n",
      "fold 4/5 - AUC validation set = 0.8945795297622681\n"
     ]
    },
    {
     "name": "stderr",
     "output_type": "stream",
     "text": [
      "Default metric period is 5 because AUC is/are not implemented for GPU\n"
     ]
    },
    {
     "name": "stdout",
     "output_type": "stream",
     "text": [
      "0:\ttest: 0.8748752\tbest: 0.8748752 (0)\ttotal: 1.33s\tremaining: 3h 41m 20s\n",
      "500:\ttest: 0.8946410\tbest: 0.8946410 (500)\ttotal: 7m 38s\tremaining: 2h 24m 59s\n",
      "1000:\ttest: 0.8950649\tbest: 0.8950649 (1000)\ttotal: 14m 51s\tremaining: 2h 13m 37s\n",
      "1500:\ttest: 0.8951876\tbest: 0.8951879 (1499)\ttotal: 22m 1s\tremaining: 2h 4m 44s\n",
      "2000:\ttest: 0.8952496\tbest: 0.8952509 (1997)\ttotal: 29m 16s\tremaining: 1h 57m 3s\n",
      "2500:\ttest: 0.8952574\tbest: 0.8952574 (2500)\ttotal: 36m 30s\tremaining: 1h 49m 28s\n",
      "3000:\ttest: 0.8952511\tbest: 0.8952631 (2567)\ttotal: 43m 47s\tremaining: 1h 42m 7s\n",
      "bestTest = 0.8952631354\n",
      "bestIteration = 2567\n",
      "Shrink model to first 2568 iterations.\n",
      "fold 5/5 - AUC validation set = 0.895263135433197\n",
      "\n",
      "mean AUC validation set = 0.894794499874115\n",
      "CPU times: user 6h 20min 47s, sys: 20min 7s, total: 6h 40min 55s\n",
      "Wall time: 4h 27min 36s\n"
     ]
    }
   ],
   "source": [
    "%%time\n",
    "\n",
    "# Parameters copied from https://www.kaggle.com/code/darkdevil18/0-89698-ps4e7-are-you-insured?scriptVersionId=189390714&cellId=47\n",
    "model_params = {\n",
    "    'loss_function': 'Logloss',\n",
    "    'eval_metric': 'AUC',\n",
    "    'class_names': [0, 1],\n",
    "    'learning_rate': 0.075,\n",
    "    'iterations': 10000,\n",
    "    'depth': 9,\n",
    "    'random_strength': 0,\n",
    "    'l2_leaf_reg': 0.5,\n",
    "    'max_leaves': 512,\n",
    "    'fold_permutation_block': 64,\n",
    "    'task_type': 'GPU',\n",
    "    'random_seed': 42,\n",
    "    'verbose': 500,\n",
    "    'early_stopping_rounds':500,\n",
    "    'allow_writing_files': False\n",
    "}\n",
    "\n",
    "test_pred = train_model(features=initial_features, n_folds=5, cv_seed=42, model_params=model_params)"
   ]
  },
  {
   "cell_type": "markdown",
   "id": "bb9b2a3d",
   "metadata": {
    "papermill": {
     "duration": 0.008978,
     "end_time": "2024-07-31T19:33:25.650227",
     "exception": false,
     "start_time": "2024-07-31T19:33:25.641249",
     "status": "completed"
    },
    "tags": []
   },
   "source": [
    "# <p style=\"font-family: Garamond; font-size: 25px; word-spacing: 10px; padding: 15px; text-align: center; color: #ffffff; border-radius: 15px;  font-weight: bold; background-color: #06066F;\">SUBMISSION</p>"
   ]
  },
  {
   "cell_type": "code",
   "execution_count": 8,
   "id": "dd4625b6",
   "metadata": {
    "execution": {
     "iopub.execute_input": "2024-07-31T19:33:25.671066Z",
     "iopub.status.busy": "2024-07-31T19:33:25.670423Z",
     "iopub.status.idle": "2024-07-31T19:33:52.408156Z",
     "shell.execute_reply": "2024-07-31T19:33:52.407350Z"
    },
    "papermill": {
     "duration": 26.750921,
     "end_time": "2024-07-31T19:33:52.410646",
     "exception": false,
     "start_time": "2024-07-31T19:33:25.659725",
     "status": "completed"
    },
    "tags": []
   },
   "outputs": [
    {
     "data": {
      "text/html": [
       "<div>\n",
       "<style scoped>\n",
       "    .dataframe tbody tr th:only-of-type {\n",
       "        vertical-align: middle;\n",
       "    }\n",
       "\n",
       "    .dataframe tbody tr th {\n",
       "        vertical-align: top;\n",
       "    }\n",
       "\n",
       "    .dataframe thead th {\n",
       "        text-align: right;\n",
       "    }\n",
       "</style>\n",
       "<table border=\"1\" class=\"dataframe\">\n",
       "  <thead>\n",
       "    <tr style=\"text-align: right;\">\n",
       "      <th></th>\n",
       "      <th>id</th>\n",
       "      <th>Response</th>\n",
       "    </tr>\n",
       "  </thead>\n",
       "  <tbody>\n",
       "    <tr>\n",
       "      <th>0</th>\n",
       "      <td>11504798</td>\n",
       "      <td>0.005925</td>\n",
       "    </tr>\n",
       "    <tr>\n",
       "      <th>1</th>\n",
       "      <td>11504799</td>\n",
       "      <td>0.658852</td>\n",
       "    </tr>\n",
       "    <tr>\n",
       "      <th>2</th>\n",
       "      <td>11504800</td>\n",
       "      <td>0.239860</td>\n",
       "    </tr>\n",
       "    <tr>\n",
       "      <th>3</th>\n",
       "      <td>11504801</td>\n",
       "      <td>0.000066</td>\n",
       "    </tr>\n",
       "    <tr>\n",
       "      <th>4</th>\n",
       "      <td>11504802</td>\n",
       "      <td>0.198479</td>\n",
       "    </tr>\n",
       "    <tr>\n",
       "      <th>5</th>\n",
       "      <td>11504803</td>\n",
       "      <td>0.000065</td>\n",
       "    </tr>\n",
       "    <tr>\n",
       "      <th>6</th>\n",
       "      <td>11504804</td>\n",
       "      <td>0.101406</td>\n",
       "    </tr>\n",
       "    <tr>\n",
       "      <th>7</th>\n",
       "      <td>11504805</td>\n",
       "      <td>0.003469</td>\n",
       "    </tr>\n",
       "    <tr>\n",
       "      <th>8</th>\n",
       "      <td>11504806</td>\n",
       "      <td>0.000012</td>\n",
       "    </tr>\n",
       "    <tr>\n",
       "      <th>9</th>\n",
       "      <td>11504807</td>\n",
       "      <td>0.000183</td>\n",
       "    </tr>\n",
       "  </tbody>\n",
       "</table>\n",
       "</div>"
      ],
      "text/plain": [
       "         id  Response\n",
       "0  11504798  0.005925\n",
       "1  11504799  0.658852\n",
       "2  11504800  0.239860\n",
       "3  11504801  0.000066\n",
       "4  11504802  0.198479\n",
       "5  11504803  0.000065\n",
       "6  11504804  0.101406\n",
       "7  11504805  0.003469\n",
       "8  11504806  0.000012\n",
       "9  11504807  0.000183"
      ]
     },
     "metadata": {},
     "output_type": "display_data"
    }
   ],
   "source": [
    "submission = pd.read_csv('/kaggle/input/playground-series-s4e7/sample_submission.csv')\n",
    "submission['Response'] = test_pred\n",
    "display(submission.head(10))\n",
    "submission.to_csv(\"submission.csv\", index=False)"
   ]
  }
 ],
 "metadata": {
  "kaggle": {
   "accelerator": "gpu",
   "dataSources": [
    {
     "databundleVersionId": 8930475,
     "sourceId": 73291,
     "sourceType": "competition"
    }
   ],
   "dockerImageVersionId": 30747,
   "isGpuEnabled": true,
   "isInternetEnabled": true,
   "language": "python",
   "sourceType": "notebook"
  },
  "kernelspec": {
   "display_name": "Python 3",
   "language": "python",
   "name": "python3"
  },
  "language_info": {
   "codemirror_mode": {
    "name": "ipython",
    "version": 3
   },
   "file_extension": ".py",
   "mimetype": "text/x-python",
   "name": "python",
   "nbconvert_exporter": "python",
   "pygments_lexer": "ipython3",
   "version": "3.10.13"
  },
  "papermill": {
   "default_parameters": {},
   "duration": 16157.946552,
   "end_time": "2024-07-31T19:33:54.833916",
   "environment_variables": {},
   "exception": null,
   "input_path": "__notebook__.ipynb",
   "output_path": "__notebook__.ipynb",
   "parameters": {},
   "start_time": "2024-07-31T15:04:36.887364",
   "version": "2.5.0"
  }
 },
 "nbformat": 4,
 "nbformat_minor": 5
}
